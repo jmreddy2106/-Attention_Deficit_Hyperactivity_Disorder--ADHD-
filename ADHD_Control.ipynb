{
  "cells": [
    {
      "cell_type": "code",
      "execution_count": null,
      "metadata": {
        "colab": {
          "base_uri": "https://localhost:8080/"
        },
        "id": "3p8K7HpST2m9",
        "outputId": "e75cd164-9b9c-4b66-cb7e-6013383b5ec4"
      },
      "outputs": [],
      "source": [
        "from mat4py import loadmat\n",
        "import pandas as pd\n",
        "import glob\n",
        "import matplotlib.pyplot as plt\n",
        "\n",
        "folder_name_adhd = [\"ADHD_part1/\", \"ADHD_part2/\"]\n",
        "\n",
        "# Creating .mat files list \n",
        "matfiles_adhd = []\n",
        "for folder in folder_name_adhd:\n",
        "    for file in glob.glob(folder+\"*.mat\"):\n",
        "        matfiles_adhd.append(file)\n",
        "print((matfiles_adhd))\n",
        "\n",
        "# Reading data from .mat file and creating list of row and appending from every file\n",
        "signalData = []\n",
        "for file in matfiles_adhd:\n",
        "    column_name = file.split('/')[-1].split('.')[0]\n",
        "    tepmdata = loadmat(file)\n",
        "    data_ = tepmdata[column_name]\n",
        "    for item in data_:\n",
        "        signalData.append(item)\n",
        "\n",
        "# Creating a dataframe from the list \n",
        "adhd_data_df = pd.DataFrame(signalData)\n",
        "adhd_data_df['class'] = 1\n",
        "print(adhd_data_df.head)"
      ]
    },
    {
      "cell_type": "code",
      "execution_count": null,
      "metadata": {
        "colab": {
          "base_uri": "https://localhost:8080/"
        },
        "id": "HnXcqW1OUQKb",
        "outputId": "af181e67-0269-4854-a6eb-4cf8942fe6ce"
      },
      "outputs": [],
      "source": [
        "###### For Control Data\n",
        "folder_name_control = [\"Control_part1/\", \"Control_part2/\"]\n",
        "\n",
        "# Creating .mat files list \n",
        "matfiles_control = []\n",
        "for folder in folder_name_control:\n",
        "    for file in glob.glob(folder+\"*.mat\"):\n",
        "        matfiles_control.append(file)\n",
        "print(len(matfiles_control))\n",
        "\n",
        "# Reading data from .mat file and creating list of row and appending from every file\n",
        "signalData = []\n",
        "for file in matfiles_control:\n",
        "    column_name = file.split('/')[-1].split('.')[0]\n",
        "    tepmdata = loadmat(file)\n",
        "    data_ = tepmdata[column_name]\n",
        "    for item in data_:\n",
        "        signalData.append(item)\n",
        "        \n",
        "# Creating a dataframe from the list \n",
        "control_data_df = pd.DataFrame(signalData)\n",
        "control_data_df['class'] = 0\n",
        "print(control_data_df.head)\n"
      ]
    },
    {
      "cell_type": "code",
      "execution_count": null,
      "metadata": {
        "id": "36dlkM2rWmgQ"
      },
      "outputs": [],
      "source": [
        "column_name = ['Fp1','Fp2','F3','F4','C3','C4','P3','P4','O1','O2','F7','F8','T7','T8','P7','P8','Fz','Cz','Pz', \"class\"]"
      ]
    },
    {
      "cell_type": "code",
      "execution_count": null,
      "metadata": {
        "colab": {
          "base_uri": "https://localhost:8080/"
        },
        "id": "SY8liEszXJ_L",
        "outputId": "586e8ede-2610-4d43-9c14-c022cc983e1b"
      },
      "outputs": [],
      "source": [
        "final_df = pd.concat([adhd_data_df, control_data_df], axis=0)\n",
        "final_df.columns = column_name\n",
        "print(final_df.head)"
      ]
    },
    {
      "cell_type": "code",
      "execution_count": null,
      "metadata": {
        "colab": {
          "base_uri": "https://localhost:8080/"
        },
        "id": "0FtftHhFI-29",
        "outputId": "687ec050-3b87-4f8b-870d-b50c73868329"
      },
      "outputs": [],
      "source": [
        "# Region Sepration - Right brain\n",
        "right_brain_df = final_df[['Fp2','F4','F8', 'C4','T7', 'P4','T8','O2']]\n",
        "print(right_brain_df)"
      ]
    },
    {
      "cell_type": "code",
      "execution_count": null,
      "metadata": {
        "colab": {
          "base_uri": "https://localhost:8080/"
        },
        "id": "y8NrVFMhQPqD",
        "outputId": "7cd95f4f-5485-476d-95fe-3a07f7740de4"
      },
      "outputs": [],
      "source": [
        "# Left brain\n",
        "left_brain_df = final_df[['C3','T3','Fp1', 'F3', 'F7' , 'P3', 'T5','O1']]\n",
        "print(left_brain_df)"
      ]
    },
    {
      "cell_type": "code",
      "execution_count": null,
      "metadata": {
        "colab": {
          "base_uri": "https://localhost:8080/"
        },
        "id": "l7JvWW5gQW9s",
        "outputId": "ef8789ce-aa7e-47fe-83e7-a0475cde1814"
      },
      "outputs": [],
      "source": [
        "# F region\n",
        "F_df= final_df[['Fz', 'Fp1', 'Fp2', 'F3', 'F4','F7', 'F8']]\n",
        "print(F_df)"
      ]
    },
    {
      "cell_type": "code",
      "execution_count": null,
      "metadata": {
        "colab": {
          "base_uri": "https://localhost:8080/"
        },
        "id": "epqicfynQeZn",
        "outputId": "e552da9f-e9c1-4dfc-8509-d92e651df870"
      },
      "outputs": [],
      "source": [
        "# C region\n",
        "C_df= final_df[['Cz','C3','C4']]\n",
        "print(C_df)"
      ]
    },
    {
      "cell_type": "code",
      "execution_count": null,
      "metadata": {
        "colab": {
          "base_uri": "https://localhost:8080/"
        },
        "id": "JUat80vGQkHB",
        "outputId": "6af98a25-478f-4bb4-b98f-991322f4868f"
      },
      "outputs": [],
      "source": [
        "# P region\n",
        "P_df= final_df[['Pz','P3','P4']]\n",
        "print(P_df)"
      ]
    },
    {
      "cell_type": "code",
      "execution_count": null,
      "metadata": {
        "colab": {
          "base_uri": "https://localhost:8080/"
        },
        "id": "cvyuCyhmQqHJ",
        "outputId": "d890b5f7-903f-48ed-d464-d8e99c01dd7c"
      },
      "outputs": [],
      "source": [
        "# T region\n",
        "T_df = final_df[['T3', 'T4', 'T5', 'T6']]\n",
        "print(T_df)"
      ]
    },
    {
      "cell_type": "code",
      "execution_count": null,
      "metadata": {
        "colab": {
          "base_uri": "https://localhost:8080/"
        },
        "id": "U6w_TPIZQwGQ",
        "outputId": "edff0e0c-493c-4329-ed46-79699cd3555e"
      },
      "outputs": [],
      "source": [
        "# O region\n",
        "O_df = final_df[['O1', 'O2']]\n",
        "print(O_df)"
      ]
    },
    {
      "cell_type": "code",
      "execution_count": null,
      "metadata": {},
      "outputs": [],
      "source": [
        "c_f_o_df = pd.concat([C_df, F_df, O_df], axis=1)\n",
        "c_f_o_df"
      ]
    },
    {
      "cell_type": "code",
      "execution_count": null,
      "metadata": {},
      "outputs": [],
      "source": [
        "p_t_df = pd.concat([P_df, T_df], axis=1)\n",
        "p_t_df.head()"
      ]
    },
    {
      "cell_type": "code",
      "execution_count": null,
      "metadata": {},
      "outputs": [],
      "source": [
        "f_o_p_df = pd.concat([F_df, O_df, P_df], axis=1)\n",
        "f_o_p_df"
      ]
    },
    {
      "cell_type": "code",
      "execution_count": null,
      "metadata": {},
      "outputs": [],
      "source": [
        "c_p_t_df = pd.concat([C_df, P_df, T_df], axis=1)\n",
        "c_p_t_df"
      ]
    },
    {
      "cell_type": "code",
      "execution_count": null,
      "metadata": {},
      "outputs": [],
      "source": [
        "# F_C_P_T_O\n",
        "\n",
        "FCPTO_df = final_df\n"
      ]
    },
    {
      "cell_type": "code",
      "execution_count": null,
      "metadata": {},
      "outputs": [],
      "source": [
        "FCPTO_df.shape"
      ]
    },
    {
      "cell_type": "markdown",
      "metadata": {},
      "source": [
        "### Data Scale Models"
      ]
    },
    {
      "cell_type": "code",
      "execution_count": null,
      "metadata": {
        "id": "Ih2ssvMpPUPY"
      },
      "outputs": [],
      "source": [
        "from sklearn.ensemble import RandomForestClassifier\n",
        "import matplotlib.pyplot as plt\n",
        "from sklearn.metrics import ConfusionMatrixDisplay\n",
        "from sklearn.metrics import RocCurveDisplay\n",
        "from sklearn.model_selection import train_test_split\n",
        "from sklearn import metrics\n",
        "from matplotlib import rcParams\n",
        "rcParams['figure.figsize'] = 20,10\n",
        "from sklearn.metrics import accuracy_score\n",
        "from sklearn.metrics import precision_recall_fscore_support\n",
        "from sklearn.ensemble import AdaBoostClassifier\n",
        "from sklearn.tree import DecisionTreeClassifier, ExtraTreeClassifier"
      ]
    },
    {
      "cell_type": "code",
      "execution_count": null,
      "metadata": {},
      "outputs": [],
      "source": [
        "from sklearn.preprocessing import StandardScaler, MinMaxScaler\n",
        "\n",
        "scaler = MinMaxScaler()\n",
        "scale_data = FCPTO_df.drop(['class'], axis=1)\n",
        "scale_data = scaler.fit_transform(scale_data)\n"
      ]
    },
    {
      "cell_type": "code",
      "execution_count": null,
      "metadata": {},
      "outputs": [],
      "source": [
        "scale_data.shape"
      ]
    },
    {
      "cell_type": "code",
      "execution_count": null,
      "metadata": {},
      "outputs": [],
      "source": [
        "X = scale_data\n",
        "Y = FCPTO_df['class']"
      ]
    },
    {
      "cell_type": "code",
      "execution_count": null,
      "metadata": {},
      "outputs": [],
      "source": [
        "rf_model = RandomForestClassifier(random_state=0, n_estimators=100)\n",
        "X_train, X_test, y_train, y_test = train_test_split(X, Y, test_size=0.20, random_state=0)\n",
        "rf_model.fit(X_train, y_train)\n",
        "y_pred = rf_model.predict(X_test)\n",
        "y_probs = rf_model.predict_proba(X_test)\n",
        "print(precision_recall_fscore_support(y_test, y_pred))\n",
        "\n",
        "print(f\"RandomForest Accuracy {(accuracy_score(y_test, y_pred))}\")"
      ]
    },
    {
      "cell_type": "code",
      "execution_count": null,
      "metadata": {},
      "outputs": [],
      "source": [
        "ada_model = AdaBoostClassifier(random_state=0, n_estimators=100, base_estimator=DecisionTreeClassifier())\n",
        "X_train, X_test, y_train, y_test = train_test_split(X, Y, test_size=0.20, random_state=0)\n",
        "ada_model.fit(X_train, y_train)\n",
        "y_pred = ada_model.predict(X_test)\n",
        "y_probs = ada_model.predict_proba(X_test)\n",
        "print(precision_recall_fscore_support(y_test, y_pred))\n",
        "\n",
        "print(f\"Adaboost Accuracy {(accuracy_score(y_test, y_pred))}\")"
      ]
    },
    {
      "cell_type": "markdown",
      "metadata": {},
      "source": [
        "### Feature Selection Models"
      ]
    },
    {
      "cell_type": "code",
      "execution_count": null,
      "metadata": {
        "id": "SrjaXUs3yWGr"
      },
      "outputs": [],
      "source": [
        "final = final_df.drop(['class'], axis=1)\n",
        "Y = final_df['class']\n",
        "data_sets = [final, right_brain_df, left_brain_df, C_df, F_df, O_df, P_df, T_df, c_f_o_df, p_t_df, f_o_p_df, c_p_t_df]\n",
        "data_sets_labels = ['final_df', 'right_brain_df', 'left_brain_df', 'C_df', 'F_df', 'O_df', 'P_df', 'T_df', 'c_f_o_df', 'p_t_df', 'f_o_p_df', 'c_p_t_df']"
      ]
    },
    {
      "cell_type": "markdown",
      "metadata": {},
      "source": [
        "### RandomForest Classifier"
      ]
    },
    {
      "cell_type": "code",
      "execution_count": null,
      "metadata": {
        "colab": {
          "base_uri": "https://localhost:8080/",
          "height": 240
        },
        "id": "mZgAJgary0Ql",
        "outputId": "cb8175e2-b33e-4298-e68b-e610b586f700"
      },
      "outputs": [],
      "source": [
        "classification_report_ = []\n",
        "\n",
        "rf_model = RandomForestClassifier(random_state=0, n_estimators=100)\n",
        "for label, data_set in zip(data_sets_labels, data_sets):\n",
        "  print(f\"==== RandomForestClassifier Modeling of {label} dataset ====\")\n",
        "  y_pred=[]\n",
        "  y_probs=[]\n",
        "  X_train, X_test, y_train, y_test = train_test_split(data_set, Y, test_size=0.20, random_state=0)\n",
        "  rf_model.fit(X_train, y_train)\n",
        "  y_pred = rf_model.predict(X_test)\n",
        "  y_probs = rf_model.predict_proba(X_test)\n",
        "  cc = []\n",
        "  cc = precision_recall_fscore_support(y_test, y_pred)\n",
        "  # print(cc)\n",
        "  acc = accuracy_score(y_test, y_pred)\n",
        "  print(f\"Accuracy: {acc}\")\n",
        "  classification_report_.append({ 'precision_class0_'+label: cc[0][0],\n",
        "                                 'precision_class1_'+label: cc[0][1],\n",
        "                                 'recall_class0_'+label: cc[1][0],\n",
        "                                 'recall_class1_'+label: cc[1][1], \n",
        "                                 'f1-score_class0_'+label: cc[2][0],\n",
        "                                 'f1-score_class1_'+label: cc[2][1],\n",
        "                                 'Accuracy_'+label: acc\n",
        "                              })\n",
        "\n"
      ]
    },
    {
      "cell_type": "code",
      "execution_count": null,
      "metadata": {
        "id": "ScDFgp2cQRLH"
      },
      "outputs": [],
      "source": [
        "# Seprating Row labels and values\n",
        "row_index = []\n",
        "vals = []\n",
        "for index in range(len(classification_report_)):\n",
        "    for key in classification_report_[index]:\n",
        "        row_index.append(key)\n",
        "        vals.append(round(classification_report_[index][key]*100, 2))\n"
      ]
    },
    {
      "cell_type": "markdown",
      "metadata": {},
      "source": [
        "### AdaBoost Classifier"
      ]
    },
    {
      "cell_type": "code",
      "execution_count": null,
      "metadata": {},
      "outputs": [],
      "source": [
        "classification_report_ada = []\n",
        "\n",
        "ada_model = AdaBoostClassifier(random_state=0, n_estimators=100, base_estimator=DecisionTreeClassifier())\n",
        "for label, data_set in zip(data_sets_labels, data_sets):\n",
        "  print(f\"==== AdaBoostClassifier Modeling of {label} dataset ====\")\n",
        "  y_pred=[]\n",
        "  y_probs=[]\n",
        "  X_train, X_test, y_train, y_test = train_test_split(data_set, Y, test_size=0.20, random_state=0)\n",
        "  ada_model.fit(X_train, y_train)\n",
        "  y_pred = ada_model.predict(X_test)\n",
        "  y_probs = ada_model.predict_proba(X_test)\n",
        "  cc = []\n",
        "  cc = precision_recall_fscore_support(y_test, y_pred)\n",
        "  # print(cc)\n",
        "  acc = accuracy_score(y_test, y_pred)\n",
        "  print(f\"Accuracy: {acc}\")\n",
        "  classification_report_ada.append({ 'precision_class0_'+label: cc[0][0],\n",
        "                                 'precision_class1_'+label: cc[0][1],\n",
        "                                 'recall_class0_'+label: cc[1][0],\n",
        "                                 'recall_class1_'+label: cc[1][1], \n",
        "                                 'f1-score_class0_'+label: cc[2][0],\n",
        "                                 'f1-score_class1_'+label: cc[2][1],\n",
        "                                 'Accuracy_'+label: acc\n",
        "                              })"
      ]
    },
    {
      "cell_type": "code",
      "execution_count": null,
      "metadata": {},
      "outputs": [],
      "source": [
        "vals_ada = []\n",
        "for index in range(len(classification_report_ada)):\n",
        "    for key in classification_report_ada[index]:\n",
        "        vals_ada.append(round(classification_report_ada[index][key]*100, 2))"
      ]
    },
    {
      "cell_type": "code",
      "execution_count": null,
      "metadata": {},
      "outputs": [],
      "source": [
        "output_df = pd.DataFrame({\"RandomForest\": vals, \"AdaBoost\": vals_ada}, index=row_index)\n",
        "print(output_df, flush=False)"
      ]
    },
    {
      "cell_type": "code",
      "execution_count": null,
      "metadata": {},
      "outputs": [],
      "source": [
        "output_df.to_csv('results.csv')"
      ]
    },
    {
      "cell_type": "code",
      "execution_count": null,
      "metadata": {},
      "outputs": [],
      "source": []
    }
  ],
  "metadata": {
    "colab": {
      "collapsed_sections": [
        "lzlqFDBvdnzO",
        "cxjKy4XXgWjn",
        "pAfNKZjGeIoF",
        "4Qpn1ubMfeMw"
      ],
      "provenance": []
    },
    "kernelspec": {
      "display_name": "Python 3.9.6 64-bit",
      "language": "python",
      "name": "python3"
    },
    "language_info": {
      "codemirror_mode": {
        "name": "ipython",
        "version": 3
      },
      "file_extension": ".py",
      "mimetype": "text/x-python",
      "name": "python",
      "nbconvert_exporter": "python",
      "pygments_lexer": "ipython3",
      "version": "3.9.6"
    },
    "vscode": {
      "interpreter": {
        "hash": "31f2aee4e71d21fbe5cf8b01ff0e069b9275f58929596ceb00d14d90e3e16cd6"
      }
    }
  },
  "nbformat": 4,
  "nbformat_minor": 0
}
